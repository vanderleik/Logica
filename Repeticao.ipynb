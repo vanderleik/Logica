{
 "cells": [
  {
   "cell_type": "markdown",
   "metadata": {},
   "source": [
    "Criar um programa e somar os dígitos de 1 a 5:\n",
    "(ou seja: 1 + 2 + 3 + 4 + 5 = 15)."
   ]
  },
  {
   "cell_type": "markdown",
   "metadata": {},
   "source": [
    "### Pseudocódigo:\n",
    "1- Define e inicializa a variável soma com 0.\n",
    "2- Para cada valor de i começando por 1, repetimos por n vezes:\n",
    "2.1- A variável soma recebe seu próprio valor mais i\n",
    "3- Retorna soma\n",
    "\n",
    "\n",
    "### Código do progrmama:\n"
   ]
  },
  {
   "cell_type": "code",
   "execution_count": 1,
   "metadata": {},
   "outputs": [
    {
     "name": "stdout",
     "output_type": "stream",
     "text": [
      "\n",
      "Informe a sequência de números a ser somada:5\n"
     ]
    },
    {
     "data": {
      "text/plain": [
       "15"
      ]
     },
     "execution_count": 1,
     "metadata": {},
     "output_type": "execute_result"
    }
   ],
   "source": [
    "# Solução 01\n",
    "\n",
    "# 1- Define e inicializa a variável soma com 0.\n",
    "def soma(n):\n",
    "    soma = 0\n",
    "    # 2- Para cada valor de i começando por 1, repetimos por n vezes:\n",
    "    for i in range(n+1):\n",
    "        # 2.1- A variável soma recebe seu próprio valor mais i\n",
    "        soma = soma + i\n",
    "# 3- Retorna soma\n",
    "    return soma\n",
    "\n",
    "soma1 = input(\"\\nInforme a sequência de números a ser somada:\")\n",
    "soma1 = int(soma1)\n",
    "\n",
    "soma(soma1)"
   ]
  },
  {
   "cell_type": "code",
   "execution_count": 2,
   "metadata": {},
   "outputs": [
    {
     "name": "stdout",
     "output_type": "stream",
     "text": [
      "\n",
      "Informe a sequência de números a ser somada:5\n"
     ]
    },
    {
     "data": {
      "text/plain": [
       "15"
      ]
     },
     "execution_count": 2,
     "metadata": {},
     "output_type": "execute_result"
    }
   ],
   "source": [
    "# Solução 02 - usando o loop while\n",
    "\n",
    "# Código do programa\n",
    "\n",
    "def soma(n):\n",
    "    soma = 0\n",
    "    i = 1\n",
    "    while i <= n:\n",
    "        soma = soma + i\n",
    "        i = i + 1\n",
    "    return soma\n",
    "\n",
    "soma1 = input(\"\\nInforme a sequência de números a ser somada:\")\n",
    "soma1 = int(soma1)\n",
    "soma(soma1)"
   ]
  }
 ],
 "metadata": {
  "kernelspec": {
   "display_name": "Python 3",
   "language": "python",
   "name": "python3"
  },
  "language_info": {
   "codemirror_mode": {
    "name": "ipython",
    "version": 3
   },
   "file_extension": ".py",
   "mimetype": "text/x-python",
   "name": "python",
   "nbconvert_exporter": "python",
   "pygments_lexer": "ipython3",
   "version": "3.7.3"
  }
 },
 "nbformat": 4,
 "nbformat_minor": 2
}
