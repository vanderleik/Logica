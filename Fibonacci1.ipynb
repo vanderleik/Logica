{
 "cells": [
  {
   "cell_type": "markdown",
   "metadata": {},
   "source": [
    "## Sequência de Fibonacci\n",
    "\n",
    "Os números de Fibonacci compõem a seguinte sequência:\n",
    "0,1, 1, 2, 3, 5, 8, 13, 21, 34, 55, 89, 144, 233, 377, 610, 987, 1597, 2584, ...\n",
    "Em termos matemáticos:\n",
    "Fn = Fn-1 + Fn-2\n",
    "\n",
    "Pseudo-código\n",
    "1 - Definir uma variável \"n\" que representa a posição do número na Sequência de Fibonacci.\n",
    "2 - Se \"n\" < 0, será inválido (não tem posição negativa).\n",
    "3 - Se \"n\" > = 0, verificar se \"n\" == 1. Se \"n\" == 1, retorna 0 (primeiro valor na Sequência de Fibonacci).\n",
    "Se \"n\" > = 1, verificar se \"n\" == 2. Se \"n\" == 2, retorna 1 (segundo valor na Sequência de Fibonacci).\n",
    "Se \"n\" não estiver em nenhuma das condições anteriores, usar a regra Fn = Fn-1 + Fn-2 para encontrar a posição de \"n\".\n",
    "\n",
    "### Código do Programa"
   ]
  },
  {
   "cell_type": "code",
   "execution_count": 1,
   "metadata": {},
   "outputs": [
    {
     "name": "stdout",
     "output_type": "stream",
     "text": [
      "Informe a posição a ser obtida na Sequência Fibonacci:5\n",
      "3\n"
     ]
    }
   ],
   "source": [
    "def encontraFibonacci(n):\n",
    "    if n < 0:\n",
    "        print(\"Entrada incorreta!\")\n",
    "    elif n == 1:\n",
    "        return 0\n",
    "    elif n == 2:\n",
    "        return 1\n",
    "    else:\n",
    "        return encontraFibonacci(n-1) + encontraFibonacci(n-2)\n",
    "\n",
    "posicao = input(\"Informe a posição a ser obtida na Sequência Fibonacci:\")\n",
    "posicao = int(posicao)\n",
    "print(encontraFibonacci(posicao))"
   ]
  }
 ],
 "metadata": {
  "kernelspec": {
   "display_name": "Python 3",
   "language": "python",
   "name": "python3"
  },
  "language_info": {
   "codemirror_mode": {
    "name": "ipython",
    "version": 3
   },
   "file_extension": ".py",
   "mimetype": "text/x-python",
   "name": "python",
   "nbconvert_exporter": "python",
   "pygments_lexer": "ipython3",
   "version": "3.7.3"
  }
 },
 "nbformat": 4,
 "nbformat_minor": 2
}
