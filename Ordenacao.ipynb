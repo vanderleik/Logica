{
 "cells": [
  {
   "cell_type": "markdown",
   "metadata": {},
   "source": [
    "## Ordenação\n"
   ]
  },
  {
   "cell_type": "markdown",
   "metadata": {},
   "source": [
    "### Ordenação Por Bolha (Bubble Sort)\n",
    "\n",
    "1. Se o elemento i > j, troca deposição entre i e j;\n",
    "2. Se o elemento i < j, não faz nada.\n",
    "\n"
   ]
  },
  {
   "cell_type": "code",
   "execution_count": 1,
   "metadata": {},
   "outputs": [],
   "source": [
    "def bubble_sort(lista):\n",
    "    # Função que realiza a troca dos elementos\n",
    "    def troca(i, j):\n",
    "        lista[i], lista[j] = lista[j], lista[i]\n",
    "    n = len(lista)\n",
    "    trocado = True\n",
    "    x = -1\n",
    "    while trocado:\n",
    "        trocado = False\n",
    "        x = x + 1\n",
    "        for i in range(1, n - x):\n",
    "            if lista[i - 1] > lista[i]:\n",
    "                troca(i - 1, i)\n",
    "                trocado = True\n",
    "    return lista\n",
    "\n"
   ]
  },
  {
   "cell_type": "code",
   "execution_count": 2,
   "metadata": {},
   "outputs": [],
   "source": [
    "# Lista não ordenada\n",
    "listaNum = [9, 3, 5, 4, 6, 2, 7, 1, 8]"
   ]
  },
  {
   "cell_type": "code",
   "execution_count": 3,
   "metadata": {},
   "outputs": [
    {
     "data": {
      "text/plain": [
       "[1, 2, 3, 4, 5, 6, 7, 8, 9]"
      ]
     },
     "execution_count": 3,
     "metadata": {},
     "output_type": "execute_result"
    }
   ],
   "source": [
    "# Ordena a lista\n",
    "bubble_sort(listaNum)"
   ]
  },
  {
   "cell_type": "code",
   "execution_count": 4,
   "metadata": {},
   "outputs": [],
   "source": [
    "# Encontrei outra forma de fazer o mesmo código no Stack Overflow.\n",
    "# A diferença é que ele lista todas as trocas de elementos dentro da lista.\n",
    "\n",
    "def bubble_sort1(lista):\n",
    "    elementos = len(lista)-1\n",
    "    ordenado = False\n",
    "    while not ordenado:\n",
    "        ordenado = True\n",
    "        for i in range(elementos):\n",
    "            if lista[i] > lista[i+1]:\n",
    "                lista[i], lista[i+1] = lista[i+1],lista[i]\n",
    "                ordenado = False        \n",
    "                print(lista)\n",
    "    return lista"
   ]
  },
  {
   "cell_type": "code",
   "execution_count": 5,
   "metadata": {},
   "outputs": [],
   "source": [
    "# Lista não ordenada\n",
    "listaNum1 = [9, 3, 5, 4, 6, 2, 7, 1, 8]"
   ]
  },
  {
   "cell_type": "code",
   "execution_count": 6,
   "metadata": {},
   "outputs": [
    {
     "name": "stdout",
     "output_type": "stream",
     "text": [
      "[3, 9, 5, 4, 6, 2, 7, 1, 8]\n",
      "[3, 5, 9, 4, 6, 2, 7, 1, 8]\n",
      "[3, 5, 4, 9, 6, 2, 7, 1, 8]\n",
      "[3, 5, 4, 6, 9, 2, 7, 1, 8]\n",
      "[3, 5, 4, 6, 2, 9, 7, 1, 8]\n",
      "[3, 5, 4, 6, 2, 7, 9, 1, 8]\n",
      "[3, 5, 4, 6, 2, 7, 1, 9, 8]\n",
      "[3, 5, 4, 6, 2, 7, 1, 8, 9]\n",
      "[3, 4, 5, 6, 2, 7, 1, 8, 9]\n",
      "[3, 4, 5, 2, 6, 7, 1, 8, 9]\n",
      "[3, 4, 5, 2, 6, 1, 7, 8, 9]\n",
      "[3, 4, 2, 5, 6, 1, 7, 8, 9]\n",
      "[3, 4, 2, 5, 1, 6, 7, 8, 9]\n",
      "[3, 2, 4, 5, 1, 6, 7, 8, 9]\n",
      "[3, 2, 4, 1, 5, 6, 7, 8, 9]\n",
      "[2, 3, 4, 1, 5, 6, 7, 8, 9]\n",
      "[2, 3, 1, 4, 5, 6, 7, 8, 9]\n",
      "[2, 1, 3, 4, 5, 6, 7, 8, 9]\n",
      "[1, 2, 3, 4, 5, 6, 7, 8, 9]\n"
     ]
    },
    {
     "data": {
      "text/plain": [
       "[1, 2, 3, 4, 5, 6, 7, 8, 9]"
      ]
     },
     "execution_count": 6,
     "metadata": {},
     "output_type": "execute_result"
    }
   ],
   "source": [
    "# Ordena a lista\n",
    "bubble_sort1(listaNum1)"
   ]
  },
  {
   "cell_type": "markdown",
   "metadata": {},
   "source": [
    "### Ordenação Por Seleção (Selection Sort)"
   ]
  },
  {
   "cell_type": "code",
   "execution_count": 7,
   "metadata": {},
   "outputs": [],
   "source": [
    "import random"
   ]
  },
  {
   "cell_type": "code",
   "execution_count": 8,
   "metadata": {},
   "outputs": [],
   "source": [
    "random.seed(6)"
   ]
  },
  {
   "cell_type": "code",
   "execution_count": 9,
   "metadata": {},
   "outputs": [],
   "source": [
    "A = random.sample(range(-10, 10), 10)"
   ]
  },
  {
   "cell_type": "code",
   "execution_count": 10,
   "metadata": {},
   "outputs": [
    {
     "name": "stdout",
     "output_type": "stream",
     "text": [
      "Arranjo não ordenado:  [8, -8, 5, -2, -9, -10, 9, 0, -1, -3]\n"
     ]
    }
   ],
   "source": [
    "print(\"Arranjo não ordenado: \", A)"
   ]
  },
  {
   "cell_type": "code",
   "execution_count": 11,
   "metadata": {},
   "outputs": [],
   "source": [
    "def ordenacao_selecao(A):\n",
    "    n = len(A)\n",
    "    # Percorre o arranjo A\n",
    "    for i in range(n):\n",
    "        # Encontra o elemento mínimo em A\n",
    "        minimo = i\n",
    "        for j in range(i + 1, n):\n",
    "            if A[minimo] > A[j]:\n",
    "                minimo = j\n",
    "        # Coloca o elemento minimo na posição correta\n",
    "        A[i], A[minimo] = A[minimo], A[i]"
   ]
  },
  {
   "cell_type": "code",
   "execution_count": 12,
   "metadata": {},
   "outputs": [],
   "source": [
    "ordenacao_selecao(A)"
   ]
  },
  {
   "cell_type": "code",
   "execution_count": 13,
   "metadata": {},
   "outputs": [
    {
     "name": "stdout",
     "output_type": "stream",
     "text": [
      "Arranjo ordenado [-10, -9, -8, -3, -2, -1, 0, 5, 8, 9]\n"
     ]
    }
   ],
   "source": [
    "print(\"Arranjo ordenado\", A)"
   ]
  },
  {
   "cell_type": "markdown",
   "metadata": {},
   "source": [
    "### Ordenação Por Mistura (Merge Sort)\n",
    "\n",
    "Dividir e conquistar\n",
    "Esse código é da Wikipedia (mas não conta pra ninguém!)"
   ]
  },
  {
   "cell_type": "code",
   "execution_count": 14,
   "metadata": {},
   "outputs": [],
   "source": [
    "def mergeSort(lista):\n",
    "    if len(lista) > 1:\n",
    "        # Dividir\n",
    "        meio = len(lista)//2\n",
    "        #também é valido: meio = int(len(lista)/2)\n",
    "        listaDaEsquerda = lista[:meio]\n",
    "        listaDaDireita = lista[meio:]\n",
    "        mergeSort(listaDaEsquerda)\n",
    "        mergeSort(listaDaDireita)\n",
    "\n",
    "        i = 0\n",
    "        j = 0\n",
    "        k = 0\n",
    "\n",
    "        while i < len(listaDaEsquerda) and j < len(listaDaDireita):\n",
    "            if listaDaEsquerda[i] < listaDaDireita[j]:\n",
    "                lista[k]=listaDaEsquerda[i]\n",
    "                i += 1\n",
    "            else:\n",
    "                lista[k]=listaDaDireita[j]\n",
    "                j += 1\n",
    "            k += 1\n",
    "\n",
    "        while i < len(listaDaEsquerda):\n",
    "            lista[k]=listaDaEsquerda[i]\n",
    "            i += 1\n",
    "            k += 1\n",
    "\n",
    "        while j < len(listaDaDireita):\n",
    "            lista[k]=listaDaDireita[j]\n",
    "            j += 1\n",
    "            k += 1"
   ]
  },
  {
   "cell_type": "code",
   "execution_count": 15,
   "metadata": {},
   "outputs": [],
   "source": [
    "B = random.sample(range(-10, 10), 10)"
   ]
  },
  {
   "cell_type": "code",
   "execution_count": 16,
   "metadata": {},
   "outputs": [
    {
     "name": "stdout",
     "output_type": "stream",
     "text": [
      "Arranjo não ordenado:  [1, 0, -10, -2, 5, 2, -7, 9, -4, 6]\n"
     ]
    }
   ],
   "source": [
    "print(\"Arranjo não ordenado: \", B)"
   ]
  },
  {
   "cell_type": "code",
   "execution_count": 17,
   "metadata": {},
   "outputs": [],
   "source": [
    "mergeSort(B)"
   ]
  },
  {
   "cell_type": "code",
   "execution_count": 18,
   "metadata": {},
   "outputs": [
    {
     "name": "stdout",
     "output_type": "stream",
     "text": [
      "Arranjo ordenado: [-10, -7, -4, -2, 0, 1, 2, 5, 6, 9]\n"
     ]
    }
   ],
   "source": [
    "print(\"Arranjo ordenado:\", B)"
   ]
  },
  {
   "cell_type": "markdown",
   "metadata": {},
   "source": [
    "### Ordenação Rápida (Quick Sort)\n",
    "\n",
    "Dividir e conquistar"
   ]
  },
  {
   "cell_type": "code",
   "execution_count": 19,
   "metadata": {},
   "outputs": [],
   "source": [
    "def quickSort(alist):\n",
    "    quickSortHelper(alist,0,len(alist)-1)\n",
    "\n",
    "def quickSortHelper(alist,first,last):\n",
    "   if first<last:\n",
    "        splitpoint = partition(alist,first,last)\n",
    "        quickSortHelper(alist,first,splitpoint-1)\n",
    "        quickSortHelper(alist,splitpoint+1,last)\n",
    "\n",
    "def partition(alist,first,last):\n",
    "    pivotvalue = alist[first]\n",
    "    # Marcadores de posição, leftmark e rightmark\n",
    "    leftmark = first+1\n",
    "    rightmark = last\n",
    "\n",
    "    done = False\n",
    "    while not done:\n",
    "       while leftmark <= rightmark and alist[leftmark] <= pivotvalue:\n",
    "            leftmark = leftmark + 1\n",
    "\n",
    "       while alist[rightmark] >= pivotvalue and rightmark >= leftmark:\n",
    "            rightmark = rightmark -1\n",
    "\n",
    "       if rightmark < leftmark:\n",
    "            done = True\n",
    "       else:\n",
    "            temp = alist[leftmark]\n",
    "            alist[leftmark] = alist[rightmark]\n",
    "            alist[rightmark] = temp\n",
    "\n",
    "    temp = alist[first]\n",
    "    alist[first] = alist[rightmark]\n",
    "    alist[rightmark] = temp\n",
    "\n",
    "\n",
    "    return rightmark"
   ]
  },
  {
   "cell_type": "code",
   "execution_count": 20,
   "metadata": {},
   "outputs": [],
   "source": [
    "C = random.sample(range(-10, 10), 10)"
   ]
  },
  {
   "cell_type": "code",
   "execution_count": 21,
   "metadata": {},
   "outputs": [
    {
     "name": "stdout",
     "output_type": "stream",
     "text": [
      "Arranjo não ordenado:  [7, -7, -4, -2, -8, 3, 9, -5, -9, 2]\n"
     ]
    }
   ],
   "source": [
    "print(\"Arranjo não ordenado: \", C)"
   ]
  },
  {
   "cell_type": "code",
   "execution_count": 22,
   "metadata": {},
   "outputs": [],
   "source": [
    "quickSort(C)"
   ]
  },
  {
   "cell_type": "code",
   "execution_count": 23,
   "metadata": {},
   "outputs": [
    {
     "name": "stdout",
     "output_type": "stream",
     "text": [
      "Arranjo ordenado: [-9, -8, -7, -5, -4, -2, 2, 3, 7, 9]\n"
     ]
    }
   ],
   "source": [
    "print(\"Arranjo ordenado:\", C)"
   ]
  }
 ],
 "metadata": {
  "kernelspec": {
   "display_name": "Python 3",
   "language": "python",
   "name": "python3"
  },
  "language_info": {
   "codemirror_mode": {
    "name": "ipython",
    "version": 3
   },
   "file_extension": ".py",
   "mimetype": "text/x-python",
   "name": "python",
   "nbconvert_exporter": "python",
   "pygments_lexer": "ipython3",
   "version": "3.7.3"
  }
 },
 "nbformat": 4,
 "nbformat_minor": 2
}
