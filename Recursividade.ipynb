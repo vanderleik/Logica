{
 "cells": [
  {
   "cell_type": "markdown",
   "metadata": {},
   "source": [
    "Criar um programa e somar os dígitos de 1 a 5 usando recursividade:\n",
    "(ou seja: 1 + 2 + 3 + 4 + 5 = 15)."
   ]
  },
  {
   "cell_type": "code",
   "execution_count": 1,
   "metadata": {},
   "outputs": [],
   "source": [
    "\n",
    "# Pseudocódigo:\n",
    "# 1. Define a função de soma recursiva.\n",
    "# 2. Se n > 0, a variável soma recebe o resultado da soma recursiva entre n-1 e n.\n",
    "# 2.1. Caso n < 0, a variável soma recebe 0.\n",
    "# 3. Retorna soma\n",
    "\n",
    "# Código do progrmama:\n"
   ]
  },
  {
   "cell_type": "code",
   "execution_count": 2,
   "metadata": {},
   "outputs": [],
   "source": [
    "# 1. Define a função de soma recursiva.\n",
    "def somaRec(n):\n",
    "    # 2. Se n > 0, a variável soma recebe o resultado da soma recursiva entre n-1 e n.\n",
    "    if n > 0:\n",
    "        soma = somaRec(n-1) + n\n",
    "    # 2.1. Caso n < 0, a variável soma recebe 0.\n",
    "    else:\n",
    "        soma = 0\n",
    "    # 3. Retorna soma\n",
    "    return soma"
   ]
  },
  {
   "cell_type": "code",
   "execution_count": 3,
   "metadata": {},
   "outputs": [
    {
     "name": "stdout",
     "output_type": "stream",
     "text": [
      "\n",
      "Informe a sequência de números a ser somada:5\n"
     ]
    },
    {
     "data": {
      "text/plain": [
       "15"
      ]
     },
     "execution_count": 3,
     "metadata": {},
     "output_type": "execute_result"
    }
   ],
   "source": [
    "# Execução do programa 1\n",
    "soma1 = input(\"\\nInforme a sequência de números a ser somada:\")\n",
    "soma1 = int(soma1)\n",
    "\n",
    "somaRec(soma1)"
   ]
  },
  {
   "cell_type": "code",
   "execution_count": 4,
   "metadata": {},
   "outputs": [
    {
     "name": "stdout",
     "output_type": "stream",
     "text": [
      "\n",
      "Informe a sequência de números a ser somada:1000\n"
     ]
    },
    {
     "data": {
      "text/plain": [
       "500500"
      ]
     },
     "execution_count": 4,
     "metadata": {},
     "output_type": "execute_result"
    }
   ],
   "source": [
    "# Execução do programa 2\n",
    "soma1 = input(\"\\nInforme a sequência de números a ser somada:\")\n",
    "soma1 = int(soma1)\n",
    "\n",
    "somaRec(soma1)"
   ]
  }
 ],
 "metadata": {
  "kernelspec": {
   "display_name": "Python 3",
   "language": "python",
   "name": "python3"
  },
  "language_info": {
   "codemirror_mode": {
    "name": "ipython",
    "version": 3
   },
   "file_extension": ".py",
   "mimetype": "text/x-python",
   "name": "python",
   "nbconvert_exporter": "python",
   "pygments_lexer": "ipython3",
   "version": "3.7.3"
  }
 },
 "nbformat": 4,
 "nbformat_minor": 2
}
