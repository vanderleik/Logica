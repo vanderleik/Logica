{
 "cells": [
  {
   "cell_type": "code",
   "execution_count": 1,
   "metadata": {},
   "outputs": [],
   "source": [
    "# Algoritmos Gulosos (Greedy Algorithms)\n",
    "\n",
    "# Para uma lista de algoritimos gulosos:\n",
    "# https://www.geeksforgeeks.org/greedy-algorithms/"
   ]
  },
  {
   "cell_type": "code",
   "execution_count": 2,
   "metadata": {},
   "outputs": [],
   "source": [
    "# Neste exato momento, qual é a melhor escolha a ser feita?\n",
    "\n",
    "# Você precisa consumir 1.000 calorias/dia de uma lista de 10 alimentos."
   ]
  },
  {
   "cell_type": "code",
   "execution_count": 3,
   "metadata": {},
   "outputs": [],
   "source": [
    "# Algoritmo para buscar as melhores combinações de cardápio considerando duas regras\n",
    "# (constraints): valor do cardápio para 1000 calorias e custo do cardápio para 1000 calorias\n",
    "\n",
    "# Algoritmo guloso que busca a melhor combinação de alimentos para uma dieta de 1000 calorias."
   ]
  },
  {
   "cell_type": "code",
   "execution_count": 4,
   "metadata": {},
   "outputs": [],
   "source": [
    "# Classe para armazenar os alimentos\n",
    "class Alimentos(object):\n",
    "    # Construtor da classe\n",
    "    def __init__(self, n, v, c):\n",
    "        # Nome do alimento\n",
    "        self.nome = n\n",
    "        # Valor do alimento em Reais\n",
    "        self.valor = v\n",
    "        # Número de calorias do alimento\n",
    "        self.calorias = c\n",
    "    # Método para obter o valor de cada alimento\n",
    "    def getValor(self):\n",
    "        return self.valor\n",
    "    # Método para obter o custo (1 dividido pelo número de calorias, calculado mais abaixo. \n",
    "    # Aqui retornamos apenas as calorias)\n",
    "    def getCusto(self):\n",
    "        return self.calorias\n",
    "    # Método para imprimir nome/valor/calorias\n",
    "    def __str__(self):\n",
    "        return self.nome + ': <' + str(self.valor) + ', ' + str(self.calorias) + '>'"
   ]
  },
  {
   "cell_type": "code",
   "execution_count": 5,
   "metadata": {},
   "outputs": [],
   "source": [
    "# Cria o Menu com a lista de alimentos\"\n",
    "def criaMenu(nomes, valores, calorias):\n",
    "    # Cria a lista vazia\n",
    "    menu = []\n",
    "    # De acordo com o tamanho da lista de valores, inserimos todos os itens na lista de menu\n",
    "    for i in range(len(valores)):\n",
    "        menu.append(Alimentos(nomes[i], valores[i], calorias[i]))\n",
    "    return menu"
   ]
  },
  {
   "cell_type": "code",
   "execution_count": 6,
   "metadata": {},
   "outputs": [],
   "source": [
    "# Algoritmo Guloso\n",
    "def greedy(items, maxCost, keyFunction):\n",
    "    # Copia todos os itens\n",
    "    itemsCopy = sorted(items, key = keyFunction, reverse = True)\n",
    "    # Lista de resultados\n",
    "    resultado = []\n",
    "    # Valor total\n",
    "    totalValor = 0\n",
    "    # Custo total\n",
    "    totalCusto = 0.0\n",
    "    # De acordo com o tamanho da lista de itens, realiza os seguintes cálculos\n",
    "    for i in range(len(itemsCopy)):\n",
    "        if (totalCusto + itemsCopy[i].getCusto()) <= maxCost:\n",
    "            # adiciona os itens a lista de resultados\n",
    "            resultado.append(itemsCopy[i])\n",
    "            # Calcula o custo total\n",
    "            totalCusto += itemsCopy[i].getCusto()\n",
    "            # Calcula o valor total\n",
    "            totalValor += itemsCopy[i].getValor()\n",
    "    return (resultado, totalValor)"
   ]
  },
  {
   "cell_type": "code",
   "execution_count": 7,
   "metadata": {},
   "outputs": [],
   "source": [
    "# Função para executar o algoritmo guloso\n",
    "def executaGreedy(items, constraint, keyFunction):\n",
    "    result, val = greedy(items, constraint, keyFunction)\n",
    "    print('Valor Total dos Itens para 1000 calorias =', val)\n",
    "    for item in result:\n",
    "        print(item)"
   ]
  },
  {
   "cell_type": "code",
   "execution_count": 8,
   "metadata": {},
   "outputs": [],
   "source": [
    "# Função que gera o melhor cardápio pelo valor individual dos alimentos e pelo custo dos alimentos\n",
    "def geraCardapio(alimentos, totCalorias):\n",
    "    print('Usando o algoritmo guloso para buscar o melhor menu pelo valor dos alimentos para', totCalorias, 'calorias')\n",
    "    executaGreedy(alimentos, totCalorias, Alimentos.getValor)\n",
    "    print('\\nUsando o algoritmo guloso para buscar o melhor menu pelo custo dos alimentos para', totCalorias, 'calorias')\n",
    "    executaGreedy(alimentos, totCalorias, lambda x: 1/Alimentos.getCusto(x))"
   ]
  },
  {
   "cell_type": "code",
   "execution_count": 9,
   "metadata": {},
   "outputs": [],
   "source": [
    "# Listas para testar o algoritmo\n",
    "listaAlimentos = ['Frango', 'Milk Shake', 'Pizza', 'Hamburger', 'Batata Frita', 'Refrigerante', 'Maça', 'Laranja', 'Cenoura', \"Alface\"]"
   ]
  },
  {
   "cell_type": "code",
   "execution_count": 10,
   "metadata": {},
   "outputs": [],
   "source": [
    "valores = [79, 18, 45, 38, 25, 9, 15, 10, 22, 12]"
   ]
  },
  {
   "cell_type": "code",
   "execution_count": 11,
   "metadata": {},
   "outputs": [],
   "source": [
    "calorias = [114, 156, 359, 354, 365, 153, 97, 82, 79, 40]"
   ]
  },
  {
   "cell_type": "code",
   "execution_count": 12,
   "metadata": {},
   "outputs": [],
   "source": [
    "# Cria o menu\n",
    "menu_alimentos = criaMenu(listaAlimentos, valores, calorias)"
   ]
  },
  {
   "cell_type": "code",
   "execution_count": 13,
   "metadata": {},
   "outputs": [
    {
     "name": "stdout",
     "output_type": "stream",
     "text": [
      "Usando o algoritmo guloso para buscar o melhor menu pelo valor dos alimentos para 1000 calorias\n",
      "Valor Total dos Itens para 1000 calorias = 196\n",
      "Frango: <79, 114>\n",
      "Pizza: <45, 359>\n",
      "Hamburger: <38, 354>\n",
      "Cenoura: <22, 79>\n",
      "Alface: <12, 40>\n",
      "\n",
      "Usando o algoritmo guloso para buscar o melhor menu pelo custo dos alimentos para 1000 calorias\n",
      "Valor Total dos Itens para 1000 calorias = 165\n",
      "Alface: <12, 40>\n",
      "Cenoura: <22, 79>\n",
      "Laranja: <10, 82>\n",
      "Maça: <15, 97>\n",
      "Frango: <79, 114>\n",
      "Refrigerante: <9, 153>\n",
      "Milk Shake: <18, 156>\n"
     ]
    }
   ],
   "source": [
    "# Busca o melhor menu para o consumo de 1000 calorias\n",
    "geraCardapio(menu_alimentos, 1000)"
   ]
  }
 ],
 "metadata": {
  "kernelspec": {
   "display_name": "Python 3",
   "language": "python",
   "name": "python3"
  },
  "language_info": {
   "codemirror_mode": {
    "name": "ipython",
    "version": 3
   },
   "file_extension": ".py",
   "mimetype": "text/x-python",
   "name": "python",
   "nbconvert_exporter": "python",
   "pygments_lexer": "ipython3",
   "version": "3.7.3"
  }
 },
 "nbformat": 4,
 "nbformat_minor": 2
}
