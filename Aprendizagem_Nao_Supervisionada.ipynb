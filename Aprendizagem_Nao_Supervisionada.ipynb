{
 "cells": [
  {
   "cell_type": "code",
   "execution_count": null,
   "metadata": {},
   "outputs": [],
   "source": [
    "# Aprendizagem não Supervisionada\n",
    "\n"
   ]
  },
  {
   "cell_type": "code",
   "execution_count": null,
   "metadata": {},
   "outputs": [],
   "source": [
    "# Algoritmo k-means\n",
    "\n"
   ]
  },
  {
   "cell_type": "code",
   "execution_count": null,
   "metadata": {},
   "outputs": [],
   "source": [
    "# Pacotes\n",
    "import math\n",
    "import numpy as np\n",
    "import matplotlib.cm as cmx\n",
    "import matplotlib.pyplot as plt\n",
    "import matplotlib.colors as colors\n",
    "\n"
   ]
  },
  {
   "cell_type": "code",
   "execution_count": null,
   "metadata": {},
   "outputs": [],
   "source": [
    "##### Funções Auxiliares #####\n",
    "# Função para normalizar os dados\n",
    "def normaliza_dados(X, axis = -1, order = 2):\n",
    "    l2 = np.atleast_1d(np.linalg.norm(X, order, axis))\n",
    "    l2[l2 == 0] = 1\n",
    "    return X / np.expand_dims(l2, axis)\n",
    "\n"
   ]
  },
  {
   "cell_type": "code",
   "execution_count": null,
   "metadata": {},
   "outputs": [],
   "source": [
    "# Função para calcular a distância euclidiana entre 2 vetores\n",
    "def calcula_distancia_euclidiana(x1, x2):\n",
    "    distance = 0\n",
    "    for i in range(len(x1)):\n",
    "        distance += pow((x1[i] - x2[i]), 2)\n",
    "    return math.sqrt(distance)\n",
    "\n"
   ]
  },
  {
   "cell_type": "code",
   "execution_count": null,
   "metadata": {},
   "outputs": [],
   "source": [
    "##### Algoritmo K-means #####\n",
    "\n"
   ]
  },
  {
   "cell_type": "code",
   "execution_count": null,
   "metadata": {},
   "outputs": [],
   "source": [
    "# Classe para o algoritmo K-means\n",
    "# Aprendizagem não supervisionada\n",
    "class KMeans():\n",
    "    # Construtor da classe\n",
    "    def __init__(self, k=3, max_iterations=500):\n",
    "        self.k = k\n",
    "        self.max_iterations = max_iterations\n",
    "    # Inicializa os centróides com k amostras randômicas de x\n",
    "    def _init_random_centroids(self, X):\n",
    "        n_samples, n_features = np.shape(X)\n",
    "        centroids = np.zeros((self.k, n_features))\n",
    "        for i in range(self.k):\n",
    "            centroid = X[np.random.choice(range(n_samples))]\n",
    "            centroids[i] = centroid\n",
    "        return centroids\n",
    "    # Retorna o índice mais próximo do centróide da amostra\n",
    "    def _closest_centroid(self, sample, centroids):\n",
    "        closest_i = 0\n",
    "        closest_dist = float('inf')\n",
    "        for i, centroid in enumerate(centroids):\n",
    "            distance = calcula_distancia_euclidiana(sample, centroid)\n",
    "            if distance < closest_dist:\n",
    "                closest_i = i\n",
    "                closest_dist = distance\n",
    "        return closest_i\n",
    "    # Associa as amostras de dados aos centróides mais próximos para criar os clusters (grupos)\n",
    "    def _create_clusters(self, centroids, X):\n",
    "        n_samples = np.shape(X)[0]\n",
    "        clusters = [[] for _ in range(self.k)]\n",
    "        for sample_i, sample in enumerate(X):\n",
    "            centroid_i = self._closest_centroid(sample, centroids)\n",
    "            clusters[centroid_i].append(sample_i)\n",
    "        return clusters\n",
    "    # Calcula novos centróides como a média das amostras em cada cluster\n",
    "    def _calculate_centroids(self, clusters, X):\n",
    "        n_features = np.shape(X)[1]\n",
    "        centroids = np.zeros((self.k, n_features))\n",
    "        for i, cluster in enumerate(clusters):\n",
    "            centroid = np.mean(X[cluster], axis=0)\n",
    "            centroids[i] = centroid\n",
    "        return centroids\n",
    "    # Classifica as amostras com o índice dos seus clusters\n",
    "    def _get_cluster_labels(self, clusters, X):\n",
    "        y_pred = np.zeros(np.shape(X)[0])\n",
    "        for cluster_i, cluster in enumerate(clusters):\n",
    "            for sample_i in cluster:\n",
    "                y_pred[sample_i] = cluster_i\n",
    "        return y_pred\n",
    "    # Faz a previsão de cada cluster e retorna os índices dos clusters\n",
    "    def predict(self, X):\n",
    "        # Inicializa centróides como k amostras aleatórias de X\n",
    "        centroids = self._init_random_centroids(X)\n",
    "        # Iterar até convergência ou para iterações máximas\n",
    "        for _ in range(self.max_iterations):\n",
    "            # Atribuir amostras aos centróides mais próximos (criar clusters)\n",
    "            clusters = self._create_clusters(centroids, X)\n",
    "            # Salvar os centróides atuais para verificação de convergência\n",
    "            prev_centroids = centroids\n",
    "            # Calcular novos centróides a partir dos clusters\n",
    "            centroids = self._calculate_centroids(clusters, X)\n",
    "            # Se nenhum centróide mudou => convergência\n",
    "            diff = centroids - prev_centroids\n",
    "            if not diff.any():\n",
    "                break\n",
    "        return self._get_cluster_labels(clusters, X)\n",
    "\n"
   ]
  },
  {
   "cell_type": "code",
   "execution_count": null,
   "metadata": {},
   "outputs": [],
   "source": [
    "##### Funções Auxiliares Para o PCA #####\n"
   ]
  },
  {
   "cell_type": "code",
   "execution_count": null,
   "metadata": {},
   "outputs": [],
   "source": [
    "# Calcula a matriz de co-variância\n",
    "def calculate_covariance_matrix(X, Y=None):\n",
    "    if Y is None:\n",
    "        Y = X\n",
    "    n_samples = np.shape(X)[0]\n",
    "    covariance_matrix = (1 / (n_samples-1)) * (X - X.mean(axis=0)).T.dot(Y - Y.mean(axis=0))\n",
    "    return np.array(covariance_matrix, dtype=float)\n",
    "\n"
   ]
  },
  {
   "cell_type": "code",
   "execution_count": null,
   "metadata": {},
   "outputs": [],
   "source": [
    "# Calcula a matriz de correlação\n",
    "def calculate_correlation_matrix(X, Y=None):\n",
    "    if Y is None:\n",
    "        Y = X\n",
    "    n_samples = np.shape(X)[0]\n",
    "    covariance = (1 / n_samples) * (X - X.mean(0)).T.dot(Y - Y.mean(0))\n",
    "    std_dev_X = np.expand_dims(calculate_std_dev(X), 1)\n",
    "    std_dev_y = np.expand_dims(calculate_std_dev(Y), 1)\n",
    "    correlation_matrix = np.divide(covariance, std_dev_X.dot(std_dev_y.T))\n",
    "    return np.array(correlation_matrix, dtype=float)\n",
    "\n"
   ]
  },
  {
   "cell_type": "code",
   "execution_count": null,
   "metadata": {},
   "outputs": [],
   "source": [
    "##### Classe Para o Plot dos Clusters em 2D #####\n",
    "# Classe para criar o plot\n",
    "class Plot():\n",
    "    # Construtor da classe\n",
    "    def __init__(self):\n",
    "        self.cmap = plt.get_cmap('viridis')\n",
    "    # Função para transformar os dados\n",
    "    def _transform(self, X, dim):\n",
    "        covariance = calculate_covariance_matrix(X)\n",
    "        eigenvalues, eigenvectors = np.linalg.eig(covariance)\n",
    "        idx = eigenvalues.argsort()[::-1]\n",
    "        eigenvalues = eigenvalues[idx][:dim]\n",
    "        eigenvectors = np.atleast_1d(eigenvectors[:, idx])[:, :dim]\n",
    "        X_transformed = X.dot(eigenvectors)\n",
    "        return X_transformed\n",
    "    # Plot do dataset X e seus correspondentes labels y em 2D usando PCA.\n",
    "    def plot_in_2d(self, X, y=None, title=None, accuracy=None, legend_labels=None):\n",
    "        X_transformed = self._transform(X, dim=2)\n",
    "        x1 = X_transformed[:, 0]\n",
    "        x2 = X_transformed[:, 1]\n",
    "        class_distr = []\n",
    "        y = np.array(y).astype(int)\n",
    "        colors = [self.cmap(i) for i in np.linspace(0, 1, len(np.unique(y)))]\n",
    "        # Plot de diferentes distribuições de classe\n",
    "        for i, l in enumerate(np.unique(y)):\n",
    "            _x1 = x1[y == l]\n",
    "            _x2 = x2[y == l]\n",
    "            _y = y[y == l]\n",
    "            class_distr.append(plt.scatter(_x1, _x2, color=colors[i]))\n",
    "        # Plot da legenda\n",
    "        if not legend_labels is None:\n",
    "            plt.legend(class_distr, legend_labels, loc=1)\n",
    "        # Plot do título\n",
    "        if title:\n",
    "            if accuracy:\n",
    "                perc = 100 * accuracy\n",
    "                plt.suptitle(title)\n",
    "                plt.title(\"Acurácia: %.1f%%\" % perc, fontsize=10)\n",
    "            else:\n",
    "                plt.title(title)\n",
    "        # Axis labels\n",
    "        plt.xlabel('Componente Principal 1')\n",
    "        plt.ylabel('Componente Principal 2')\n",
    "        plt.show()"
   ]
  },
  {
   "cell_type": "code",
   "execution_count": null,
   "metadata": {},
   "outputs": [],
   "source": [
    "##### Execução do Programa #####"
   ]
  },
  {
   "cell_type": "code",
   "execution_count": null,
   "metadata": {},
   "outputs": [],
   "source": [
    "from sklearn.datasets import make_blobs"
   ]
  },
  {
   "cell_type": "code",
   "execution_count": null,
   "metadata": {},
   "outputs": [],
   "source": [
    "# Função para execução principal do programa\n",
    "def main():\n",
    "    # Carrega o dataset\n",
    "    X, y = make_blobs()\n",
    "    # Executa o algoritmo para k = 3\n",
    "    clf = KMeans(k = 3)\n",
    "    y_pred = clf.predict(X)\n",
    "    # Projeta os dados com 2 componentes principais\n",
    "    p = Plot()\n",
    "    p.plot_in_2d(X, y_pred, title = \"Segmentação de Clientes com K-Means\")\n",
    "if __name__ == \"__main__\":\n",
    "    main()"
   ]
  }
 ],
 "metadata": {
  "kernelspec": {
   "display_name": "Python 3",
   "language": "python",
   "name": "python3"
  },
  "language_info": {
   "codemirror_mode": {
    "name": "ipython",
    "version": 3
   },
   "file_extension": ".py",
   "mimetype": "text/x-python",
   "name": "python",
   "nbconvert_exporter": "python",
   "pygments_lexer": "ipython3",
   "version": "3.7.3"
  }
 },
 "nbformat": 4,
 "nbformat_minor": 2
}
