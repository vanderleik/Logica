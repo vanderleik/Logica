{
 "cells": [
  {
   "cell_type": "markdown",
   "metadata": {},
   "source": [
    "#### Criar uma função capaz de determinar qual valor é mario entre dois números determinados.\n",
    "\n",
    "### Pseudo-Código\n",
    "\n",
    "1. Defina n1 como sendo o primeiro número\n",
    "2. Defina n2 como sendo o segundo número\n",
    "3. Estabeleça a condição de que:\n",
    "3.1. se n1 > n2, então n1 é maior que n2.\n",
    "3.2. se n1 < n2, então n2 é maior que n1."
   ]
  },
  {
   "cell_type": "markdown",
   "metadata": {},
   "source": [
    "### Código do programa"
   ]
  },
  {
   "cell_type": "code",
   "execution_count": 1,
   "metadata": {},
   "outputs": [
    {
     "name": "stdout",
     "output_type": "stream",
     "text": [
      "Pressione <Enter> para iniciar...\n",
      "\n",
      "Informe o primeiro valor:1\n",
      "\n",
      "Informe o segundo valor:2\n",
      "2 é maior que  1\n"
     ]
    }
   ],
   "source": [
    "# Solução 01\n",
    "\n",
    "enter = input(\"Pressione <Enter> para iniciar...\")\n",
    "\n",
    "# 1. Defina n1 como sendo o primeiro número\n",
    "n1 = input(\"\\nInforme o primeiro valor:\")\n",
    "n1 = int(n1)\n",
    "\n",
    "# 2. Defina n2 como sendo o segundo número\n",
    "n2 = input(\"\\nInforme o segundo valor:\")\n",
    "n2 = int(n2)\n",
    "\n",
    "# 3. Estabeleça a condição de que:\n",
    "# 3.1. se n1 > n2, então n1 é maior que n2.\n",
    "if n1 > n2:\n",
    "    print(n1, \"é maior que \",n2)\n",
    "# 3.2. se n1 < n2, então n2 é maior que n1.\n",
    "elif n2 > n1:\n",
    "    print(n2, \"é maior que \",n1)\n",
    "else:\n",
    "    print(n1, \"é igual a \",n2)"
   ]
  },
  {
   "cell_type": "markdown",
   "metadata": {},
   "source": [
    "### Solução 02, adaptada da aula.\n",
    "Essa solução não prevê que os números de entrada podem ser iguais!\n"
   ]
  },
  {
   "cell_type": "code",
   "execution_count": 2,
   "metadata": {},
   "outputs": [
    {
     "name": "stdout",
     "output_type": "stream",
     "text": [
      "\n",
      "Pressione <Enter> para executar novamente o programa com outro código de programação...\n"
     ]
    }
   ],
   "source": [
    "enter = input(\"\\nPressione <Enter> para executar novamente o programa com outro código de programação...\")"
   ]
  },
  {
   "cell_type": "code",
   "execution_count": 3,
   "metadata": {},
   "outputs": [
    {
     "name": "stdout",
     "output_type": "stream",
     "text": [
      "\n",
      "Informe o valor de a:10\n",
      "\n",
      "Informe o valor de b:20\n",
      "\n",
      "O maior valor entre 10 e 20 é 20\n"
     ]
    }
   ],
   "source": [
    "def maximo2(a, b):\n",
    "    if a > b:\n",
    "        return a\n",
    "    else:\n",
    "        return b\n",
    "\n",
    "# 1. Defina a como sendo o primeiro número\n",
    "a = input(\"\\nInforme o valor de a:\")\n",
    "a = int(a)\n",
    "\n",
    "# 2. Defina b como sendo o segundo número\n",
    "b = input(\"\\nInforme o valor de b:\")\n",
    "b = int(b)\n",
    "\n",
    "# 3. Estabeleça a condição de que:\n",
    "# 3.1. se a > b, então a é maior que b.\n",
    "# 3.2. se a < b, então b é maior que a.\n",
    "\n",
    "print(\"\\nO maior valor entre\",a, \"e\", b, \"é\", maximo2(a, b))"
   ]
  },
  {
   "cell_type": "code",
   "execution_count": 4,
   "metadata": {},
   "outputs": [
    {
     "name": "stdout",
     "output_type": "stream",
     "text": [
      "\n",
      "Pressione <Enter> para executar outro programa, que encontrará o valor máximo entre 3 números...\n"
     ]
    }
   ],
   "source": [
    "enter = input(\"\\nPressione <Enter> para executar outro programa, que encontrará o valor máximo entre 3 números...\")"
   ]
  },
  {
   "cell_type": "markdown",
   "metadata": {},
   "source": [
    "### Pseudo-Código para obter valor máximo entre 3 números\n",
    "\n",
    "1. Leia 3 números representados por a, b e c.\n",
    "2. Se a > b e b > c; retorne a.\n",
    "3. Se a < b e b > c; retorne b.\n",
    "4. Se as condições acima não forem satisfeitas, retorne c."
   ]
  },
  {
   "cell_type": "markdown",
   "metadata": {},
   "source": [
    "### Código do programa"
   ]
  },
  {
   "cell_type": "code",
   "execution_count": 5,
   "metadata": {},
   "outputs": [
    {
     "name": "stdout",
     "output_type": "stream",
     "text": [
      "\n",
      "Informe o valor de a:5\n",
      "\n",
      "Informe o valor de b:10\n",
      "\n",
      "Informe o valor de c:15\n",
      "O maior valor é 15\n"
     ]
    }
   ],
   "source": [
    "# Solução 01\n",
    "\n",
    "# 1. Leia 3 números representados por a, b e c.\n",
    "def maximo3(a, b, c):\n",
    "    # 2. Se a > b e b > c; retorne a.\n",
    "    if a > b and b > c:\n",
    "        print(\"O maior valor é\", a)\n",
    "    # 3. Se a < b e b > c; retorne b.\n",
    "    elif a < b and b > c:\n",
    "        print(\"O marior valor é \", b)\n",
    "    # 4. Se as condições acima não forem satisfeitas, retorne c.\n",
    "    else:\n",
    "        print(\"O maior valor é\", c)\n",
    "\n",
    "a = input(\"\\nInforme o valor de a:\")\n",
    "a = int(a)\n",
    "\n",
    "b = input(\"\\nInforme o valor de b:\")\n",
    "b = int(b)\n",
    "\n",
    "c = input(\"\\nInforme o valor de c:\")\n",
    "c = int(c)\n",
    "\n",
    "maximo3(a, b, c)"
   ]
  },
  {
   "cell_type": "code",
   "execution_count": 6,
   "metadata": {},
   "outputs": [
    {
     "name": "stdout",
     "output_type": "stream",
     "text": [
      "\n",
      "Pressione <Enter> para entrar novamente com os valores e ver outra solução...\n"
     ]
    }
   ],
   "source": [
    "enter = input(\"\\nPressione <Enter> para entrar novamente com os valores e ver outra solução...\")"
   ]
  },
  {
   "cell_type": "code",
   "execution_count": 7,
   "metadata": {},
   "outputs": [
    {
     "name": "stdout",
     "output_type": "stream",
     "text": [
      "\n",
      "Informe o valor de a:25\n",
      "\n",
      "Informe o valor de b:20\n",
      "\n",
      "Informe o valor de c:10\n",
      "O maior valor é: 25\n"
     ]
    }
   ],
   "source": [
    "# Solução 02\n",
    "\n",
    "# 1. Leia 3 números representados por a, b e c.\n",
    "def maximo3_v2(a, b, c):\n",
    "    if a < b:\n",
    "        return maximo2(b, c)\n",
    "    else:\n",
    "        return maximo2(a, c)\n",
    "\n",
    "a = input(\"\\nInforme o valor de a:\")\n",
    "a = int(a)\n",
    "\n",
    "b = input(\"\\nInforme o valor de b:\")\n",
    "b = int(b)\n",
    "\n",
    "c = input(\"\\nInforme o valor de c:\")\n",
    "c = int(c)\n",
    "\n",
    "print(\"O maior valor é:\", maximo3_v2(a, b, c))"
   ]
  },
  {
   "cell_type": "code",
   "execution_count": 8,
   "metadata": {},
   "outputs": [
    {
     "name": "stdout",
     "output_type": "stream",
     "text": [
      "\n",
      "Pressione <Enter> para encerrar...\n"
     ]
    }
   ],
   "source": [
    "enter = input(\"\\nPressione <Enter> para encerrar...\")"
   ]
  },
  {
   "cell_type": "code",
   "execution_count": null,
   "metadata": {},
   "outputs": [],
   "source": []
  }
 ],
 "metadata": {
  "kernelspec": {
   "display_name": "Python 3",
   "language": "python",
   "name": "python3"
  },
  "language_info": {
   "codemirror_mode": {
    "name": "ipython",
    "version": 3
   },
   "file_extension": ".py",
   "mimetype": "text/x-python",
   "name": "python",
   "nbconvert_exporter": "python",
   "pygments_lexer": "ipython3",
   "version": "3.7.3"
  }
 },
 "nbformat": 4,
 "nbformat_minor": 2
}
