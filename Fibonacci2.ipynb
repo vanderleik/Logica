{
 "cells": [
  {
   "cell_type": "markdown",
   "metadata": {},
   "source": [
    "Quero imprimir todos os valores da Sequência de Fibonacci até a posição que eu vou especificar na Sequência de Fibonacci (SF).\n",
    "\n",
    "Os números de Fibonacci compõem a seguinte sequência:\n",
    "0, 1, 1, 2, 3, 5, 8, 13, 21, 34, 55, 89, 144, 233, 377, 610, 987, 1597, 2584, ...\n",
    "\n",
    "Em termos matemáticos:\n",
    "Fn = Fn-1 + Fn-2"
   ]
  },
  {
   "cell_type": "markdown",
   "metadata": {},
   "source": [
    "## Pseudocódigo:\n",
    "\n",
    "1. n = a posição desejada na SF.\n",
    "2. n1 = valor da primeira posição na SF.\n",
    "3. n2 = valor da segunda posição na SF.\n",
    "4. count = contador. Serve para saber quando chegamos ao fim da SF até o valor de n.\n",
    "5. Se n < 0, imprima mensagem na tela indicando que n não pode ser negativo, pois não temos posição negativa na SF.\n",
    "6. Se n == 1, imprime n1.\n",
    "7. Caso as condições 5 e 6 não forem satisfeitas, repetimos os passos abaixo enquanto count < n:\n",
    "7.1. Imprime n1 na tela.\n",
    "7.2. Próximo valor = n1 + n2.\n",
    "7.3. n1 = n2.\n",
    "7.4. n2 = valor calculado em 7.2.\n",
    "7.5. Incrementa o contador.\n",
    "\n",
    "## Iniciando a programação"
   ]
  },
  {
   "cell_type": "code",
   "execution_count": 1,
   "metadata": {},
   "outputs": [
    {
     "name": "stdout",
     "output_type": "stream",
     "text": [
      "Informe até qual posição você deseja obter a Sequência Fibonacci:15\n",
      "A Sequência de Fibonacci até  15  :\n",
      "0,1,1,2,3,5,8,13,21,34,55,89,144,233,377,"
     ]
    }
   ],
   "source": [
    "# 1. n = a posição desejada na SF. (Devo informar até qual posição desejo gerar a SF)\n",
    "n = input(\"Informe até qual posição você deseja obter a Sequência Fibonacci:\")\n",
    "n = int(n)\n",
    "\n",
    "# 2. n1 = valor da primeira posição na SF. (O valor de n1 = 0, porque o primeiro número da Sequência de Fibonacci é 0).\n",
    "n1 = 0\n",
    "\n",
    "# 3. n2 = valor da segunda posição na SF. (O valor de n2 = 1,  porque o segundo número da Sequência de Fibonacci é 1)\n",
    "n2 = 1\n",
    "\n",
    "# 4. count = contador. Serve para saber quando chegamos ao fim da SF até o valor de n.\n",
    "count = 0\n",
    "\n",
    "# 5. Se n < 0, imprima mensagem na tela indicando que n não pode ser negativo, pois não temos posição negativa na SF.\n",
    "if n < 0:\n",
    "    print(\"A posição não pode ser negativa.\")\n",
    "    # 6. Se n == 1, imprime n1.\n",
    "elif n == 1:\n",
    "    print(\"A Sequência de Fibonacci até \", n, \" :\")\n",
    "    print(n1)\n",
    "    # 7. Caso as condições 5 e 6 não forem satisfeitas, repetimos os passos abaixo enquanto count < n:\n",
    "else:\n",
    "    print(\"A Sequência de Fibonacci até \", n, \" :\")\n",
    "    while count < n:\n",
    "        # 7.1. Imprime n1 na tela.\n",
    "        print(n1, end = ',')\n",
    "        # 7.2. Próximo valor = n1 + n2.\n",
    "        nth = n1 + n2\n",
    "        # 7.3. n1 = n2.\n",
    "        n1 = n2\n",
    "        # 7.4. n2 = valor calculado em 7.2.\n",
    "        n2 = nth\n",
    "        # 7.5. Incrementa o contador.\n",
    "        count += 1"
   ]
  }
 ],
 "metadata": {
  "kernelspec": {
   "display_name": "Python 3",
   "language": "python",
   "name": "python3"
  },
  "language_info": {
   "codemirror_mode": {
    "name": "ipython",
    "version": 3
   },
   "file_extension": ".py",
   "mimetype": "text/x-python",
   "name": "python",
   "nbconvert_exporter": "python",
   "pygments_lexer": "ipython3",
   "version": "3.7.3"
  }
 },
 "nbformat": 4,
 "nbformat_minor": 2
}
