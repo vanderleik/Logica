{
 "cells": [
  {
   "cell_type": "markdown",
   "metadata": {},
   "source": [
    "Desejo encontrar o elemento x dentro de um vetor de tamanho n.\n",
    "\n",
    "Suponha x = 72 (esse é o elemento que eu quero encontrar) e que: v = [2,6,35,49,56,72,94].\n",
    "\n",
    "Para fazer a busca vou utilizar uma pesquisa binária recursiva. Para isso, preciso definir três ponteiros: Left, Middle e Right.\n",
    "\n",
    "Se o valor buscado for igual ao valor da posição Middle, o algoritmo retorna o valor buscado, ou sua posição. \n",
    "Se o valor buscado > Middle, desloco o ponteiro Left para Middle + 1. \n",
    "Se o valor buscado < Middle, desloco o ponteiro Right para Middle - 1.\n",
    "\n",
    "Faço isso sucessivamente até localizar o valor alvo.\n",
    "\n",
    "## Pseudo-código\n",
    "\n",
    "Achei mais intuitiva a explicação do: https://medium.com/@fellipetavaresft/algoritmo-de-pesquisa-bin%C3%A1ria-em-python-2aa94f7f41ed . Por isso eu peguei o pseudo-código de lá.\n",
    "\n",
    "1. Defina Left = 0, Right = n-1; (onde n é o tamanho do vetor).\n",
    "2. Calcule Middle como a média de left e rigth, e arredonde sempre para baixo, para um valor inteiro.\n",
    "3. Se array[middle] = valor buscado, então pare a iteração. Você achou o valor buscado! Retorne Middle.\n",
    "4. Se array[middle] < valor buscado, defina Left = Middle + 1.\n",
    "5. Se array[middle] > valor buscado, defina Right = Middle - 1.\n",
    "6. volte ao passo 2.\n",
    "\n",
    "\n",
    "### Programa Python para pesquisa binária recursiva, usando o código do Fellipe Tavares."
   ]
  },
  {
   "cell_type": "code",
   "execution_count": 1,
   "metadata": {},
   "outputs": [
    {
     "name": "stdout",
     "output_type": "stream",
     "text": [
      "1\n"
     ]
    }
   ],
   "source": [
    "def binarySearch(array, key):\n",
    "    length = len(array)\n",
    "    left = 0\n",
    "    right = length - 1\n",
    "  \n",
    "    while(left <= right):\n",
    "        middle = int((left + right)/2)\n",
    "        if array[middle] == key:\n",
    "            print (middle)\n",
    "            break\n",
    "        if key < array[middle]:\n",
    "            right = middle - 1\n",
    "        if key > array[middle]:\n",
    "            left = middle + 1\n",
    "    else:\n",
    "        print(\"Value not found\")\n",
    "\n",
    "x = [1,2,3,4,5,6,7,8,9,10]\n",
    "y = 2\n",
    "\n",
    "binarySearch(x,y)"
   ]
  },
  {
   "cell_type": "markdown",
   "metadata": {},
   "source": [
    "### Código segundo o curso da DSA"
   ]
  },
  {
   "cell_type": "code",
   "execution_count": 2,
   "metadata": {},
   "outputs": [
    {
     "name": "stdout",
     "output_type": "stream",
     "text": [
      "O elemento está presente no índice 3!\n"
     ]
    }
   ],
   "source": [
    "def pesquisaBinaria (vetor, left, right, x):\n",
    "    # Verifica se a última posição do vetor é maior ou igual a 1 para garantir\n",
    "    # # que tenhamos um vetor de comprimento maior que zero\n",
    "    if right >= left:\n",
    "        middle = left + (right - left) // 2\n",
    "        # Se o elemento estiver presente no meio em si\n",
    "        if vetor[middle] == x:\n",
    "            return middle\n",
    "        # Se o elemento for menor que o meio, ele poderá estar presente apenas no sub-vetor esquerdo\n",
    "        elif vetor[middle] > x:\n",
    "            return pesquisaBinaria(vetor, left, middle-1, x)\n",
    "    # Senão, o elemento pode estar presente apenas no sub-vetor direito\n",
    "        else:\n",
    "            return pesquisaBinaria(vetor, middle + 1, right, x)\n",
    "    else:\n",
    "        # O elemento não está presente na matriz\n",
    "        return -1\n",
    "\n",
    "# Vetor de teste\n",
    "listaNum = [ 12, 13, 40, 56, 93 ]\n",
    "x = 56\n",
    "# Chamada da função\n",
    "resultado = pesquisaBinaria(listaNum, 0, len(listaNum)-1, x)\n",
    "\n",
    "if resultado != -1:\n",
    "    print (\"O elemento está presente no índice %d!\" % resultado)\n",
    "else:\n",
    "    print (\"O elemento não está presente no vetor!\")"
   ]
  },
  {
   "cell_type": "markdown",
   "metadata": {},
   "source": [
    "Exercício: Dada a lista de famosos autores brasileiros, crie um programa que pesquise se \"Clarice Lispector\" está na lista e se estiver indique o índice da posição na lista. \n",
    "\n",
    "Aqui está a lista:\n",
    "\n",
    "autores = ['Monteiro Lobato', 'José de Alencar', 'Cecília Meireles', 'Carlos Drummond de Andrade', 'Machado de Assis', 'Clarice Lispector', 'Graciliano Ramos', 'Guimarães Rosa', 'Ruth Rocha', 'Luis Fernando Veríssimo']"
   ]
  },
  {
   "cell_type": "markdown",
   "metadata": {},
   "source": [
    "### Pseudo-Código\n",
    "\n",
    "1. Ordene a lista (porque a pesquisa binária tem como premissa que a lista esteja ordenada).\n",
    "2. Defina Left = 0, Right = n-1; (onde n é o tamanho do vetor).\n",
    "3. Calcule Middle como a média de left e rigth, e arredonde sempre para baixo, para um valor inteiro.\n",
    "4. Se lista[middle] = valor buscado, então pare a iteração. Você achou o valor buscado! Retorne Middle.\n",
    "5. Se lista[middle] < valor buscado, defina Left = Middle + 1.\n",
    "6. Se lista[middle] > valor buscado, defina Right = Middle - 1.\n",
    "7. volte ao passo 2.\n",
    "\n",
    "\n",
    "### Código do programa"
   ]
  },
  {
   "cell_type": "code",
   "execution_count": 3,
   "metadata": {},
   "outputs": [
    {
     "name": "stdout",
     "output_type": "stream",
     "text": [
      "['Carlos Drummond de Andrade', 'Cecília Meireles', 'Clarice Lispector', 'Graciliano Ramos', 'Guimarães Rosa', 'José de Alencar', 'Luis Fernando Veríssimo', 'Machado de Assis', 'Monteiro Lobato', 'Ruth Rocha']\n"
     ]
    }
   ],
   "source": [
    "# 1. Ordene a lista (porque a pesquisa binária tem como premissa que a lista esteja ordenada).\n",
    "autores = ['Monteiro Lobato', 'José de Alencar', 'Cecília Meireles', 'Carlos Drummond de Andrade', 'Machado de Assis', 'Clarice Lispector', 'Graciliano Ramos', 'Guimarães Rosa', 'Ruth Rocha', 'Luis Fernando Veríssimo']\n",
    "autores.sort(reverse=False)\n",
    "print(autores)\n",
    "clarice = \"Clarice Lispector\" # Chave ou valor buscado"
   ]
  },
  {
   "cell_type": "code",
   "execution_count": 4,
   "metadata": {},
   "outputs": [],
   "source": [
    "# 2. Defina Left = 0, Right = n-1; (onde n é o tamanho do vetor).\n",
    "def binarySearch(lista, chave):\n",
    "    length = len(lista)\n",
    "    left = 0\n",
    "    right = length - 1\n",
    "# 3. Calcule Middle como a média de left e rigth, e arredonde sempre para baixo, para um valor inteiro.  \n",
    "# 4. Se lista[middle] = valor buscado, então pare a iteração. Você achou o valor buscado! Retorne Middle.\n",
    "    while(left <= right):\n",
    "        middle = int((left + right)/2)\n",
    "        if lista[middle] == chave:\n",
    "            print (middle)\n",
    "            break\n",
    "        # 5. Se lista[middle] < valor buscado, defina Left = Middle + 1.\n",
    "        if chave > lista[middle]:\n",
    "            left = middle + 1\n",
    "        # 6. Se lista[middle] > valor buscado, defina Right = Middle - 1.\n",
    "        # 7. volte ao passo 2.\n",
    "        if chave < lista[middle]:\n",
    "            right = middle - 1\n",
    "    else:\n",
    "        print(\"Value not found\")"
   ]
  },
  {
   "cell_type": "code",
   "execution_count": 5,
   "metadata": {},
   "outputs": [
    {
     "name": "stdout",
     "output_type": "stream",
     "text": [
      "2\n"
     ]
    }
   ],
   "source": [
    "binarySearch(autores, clarice)"
   ]
  }
 ],
 "metadata": {
  "kernelspec": {
   "display_name": "Python 3",
   "language": "python",
   "name": "python3"
  },
  "language_info": {
   "codemirror_mode": {
    "name": "ipython",
    "version": 3
   },
   "file_extension": ".py",
   "mimetype": "text/x-python",
   "name": "python",
   "nbconvert_exporter": "python",
   "pygments_lexer": "ipython3",
   "version": "3.7.3"
  }
 },
 "nbformat": 4,
 "nbformat_minor": 2
}
