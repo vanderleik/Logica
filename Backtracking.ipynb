{
 "cells": [
  {
   "cell_type": "code",
   "execution_count": 1,
   "metadata": {},
   "outputs": [],
   "source": [
    "# Backtracking\n",
    "\n",
    "# Resolve recursivamente os problemas, tentando criar uma solução de forma incremental, uma peça de cada vez, removendo as soluções que falham em satisfazer as restrições do problema a qualquer momento.\n",
    "\n",
    "# Encontrar toda a ordem possível de arranjos de um determinado conjunto de letras.\n",
    "# Quando escolhemos um par, aplicamos Backtracking para verificar se esse par exato já foi criado ou não.\n",
    "# Se ainda não tiver sido criado, o par será adicionado à lista de respostas, caso contrário, será ignorado."
   ]
  },
  {
   "cell_type": "code",
   "execution_count": 2,
   "metadata": {},
   "outputs": [],
   "source": [
    "# Função para o algoritmo Backtracking\n",
    "def permuta(combinacoes, lista):\n",
    "    # Verificamos se o número de combinações é igual a 1\n",
    "    # e retornamos a própria lista, pois não há combinações a fazer\n",
    "    if combinacoes == 1:\n",
    "        return lista\n",
    "    # Se quisermos mais de 1 combinação dos elementos, começamos a recursão\n",
    "    else:\n",
    "        # Usamos list comprehension com recursão (chamada à própria função)\n",
    "        return [ y + x for y in permuta(1, lista) for x in permuta(combinacoes - 1, lista) ]"
   ]
  },
  {
   "cell_type": "code",
   "execution_count": 3,
   "metadata": {},
   "outputs": [
    {
     "name": "stdout",
     "output_type": "stream",
     "text": [
      "['a', 'b', 'c']\n"
     ]
    }
   ],
   "source": [
    "# Executa a função buscando diferentes combinações e aplicando a técnica de Backtracking\n",
    "print(permuta(1, [\"a\",\"b\",\"c\"]))"
   ]
  },
  {
   "cell_type": "code",
   "execution_count": 4,
   "metadata": {},
   "outputs": [
    {
     "name": "stdout",
     "output_type": "stream",
     "text": [
      "['aa', 'ab', 'ac', 'ba', 'bb', 'bc', 'ca', 'cb', 'cc']\n"
     ]
    }
   ],
   "source": [
    "print(permuta(2, [\"a\",\"b\",\"c\"]))"
   ]
  },
  {
   "cell_type": "code",
   "execution_count": 5,
   "metadata": {},
   "outputs": [
    {
     "name": "stdout",
     "output_type": "stream",
     "text": [
      "['aaa', 'aab', 'aac', 'aba', 'abb', 'abc', 'aca', 'acb', 'acc', 'baa', 'bab', 'bac', 'bba', 'bbb', 'bbc', 'bca', 'bcb', 'bcc', 'caa', 'cab', 'cac', 'cba', 'cbb', 'cbc', 'cca', 'ccb', 'ccc']\n"
     ]
    }
   ],
   "source": [
    "print(permuta(3, [\"a\",\"b\",\"c\"]))"
   ]
  },
  {
   "cell_type": "code",
   "execution_count": 6,
   "metadata": {},
   "outputs": [],
   "source": [
    "permuta3 = permuta(3, [\"a\",\"b\",\"c\"])"
   ]
  },
  {
   "cell_type": "code",
   "execution_count": 7,
   "metadata": {},
   "outputs": [
    {
     "name": "stdout",
     "output_type": "stream",
     "text": [
      "São geradas 27 combinações entre a, b e c, quando combinamos as 3 letras.\n"
     ]
    }
   ],
   "source": [
    "print(\"São geradas\",len(permuta3), \"combinações entre a, b e c, quando combinamos as 3 letras.\")"
   ]
  }
 ],
 "metadata": {
  "kernelspec": {
   "display_name": "Python 3",
   "language": "python",
   "name": "python3"
  },
  "language_info": {
   "codemirror_mode": {
    "name": "ipython",
    "version": 3
   },
   "file_extension": ".py",
   "mimetype": "text/x-python",
   "name": "python",
   "nbconvert_exporter": "python",
   "pygments_lexer": "ipython3",
   "version": "3.7.3"
  }
 },
 "nbformat": 4,
 "nbformat_minor": 2
}
