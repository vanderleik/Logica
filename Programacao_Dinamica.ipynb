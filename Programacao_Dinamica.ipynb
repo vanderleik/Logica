{
 "cells": [
  {
   "cell_type": "code",
   "execution_count": 1,
   "metadata": {},
   "outputs": [],
   "source": [
    "# Programação dinâmica\n",
    "\n",
    "# Para vários exemplos de programaçãço dinâmica acessar o link:\n",
    "# https://www.geeksforgeeks.org/dynamic-programming/\n",
    "\n",
    "# Programação Dinâmica - Partição de Strings\n",
    "\n",
    "# Input: marceloachaqueoclimapodemudar\n",
    "\n",
    "# Output: marcelo acha que o clima pode mudar"
   ]
  },
  {
   "cell_type": "code",
   "execution_count": 2,
   "metadata": {},
   "outputs": [],
   "source": [
    "# Dicionário com as palavras disponíveis\n",
    "dicionario = {\n",
    "    \"acha\": True,\n",
    "    \"que\": True,\n",
    "    \"o\": True,\n",
    "    \"clima\": True,\n",
    "    \"pode\": True,\n",
    "    \"mudar\": True\n",
    "    }"
   ]
  },
  {
   "cell_type": "code",
   "execution_count": 3,
   "metadata": {},
   "outputs": [],
   "source": [
    "# Função de custo\n",
    "def calculaCusto(palavra):\n",
    "    \"\"\"Avalia o custo de uma determinada palavra.\n",
    "    Retorna 0 se a palavra estiver no dicionário, ou o número de caracteres caso contrário.\n",
    "    Argumentos:\n",
    "    palavra (string): uma palavra cujo custo precisa ser avaliado.\n",
    "    Retorno:\n",
    "    O custo da palavra (int).\n",
    "    \"\"\"\n",
    "    if palavra in dicionario:\n",
    "        return 0\n",
    "    else:\n",
    "        return len(palavra)"
   ]
  },
  {
   "cell_type": "code",
   "execution_count": 4,
   "metadata": {},
   "outputs": [],
   "source": [
    "# O cache para memorizar soluções parciais\n",
    "# Aqui está a grande diferença da Programação Dinâmica, uma espécie de \n",
    "# \"memória\" para armazenar soluções parciais\n",
    "cache = {}"
   ]
  },
  {
   "cell_type": "code",
   "execution_count": 5,
   "metadata": {},
   "outputs": [],
   "source": [
    "# Função para dividir a string de input\n",
    "def divideString(input_string, inicio_index):\n",
    "    \"\"\"Esta função recursiva, tenta dividir a substring começando em\n",
    "    'inicio_index' em partições, ou seja, palavras!\n",
    "    Argumentos:\n",
    "        input_string (string): a string inicial que precisa ser dividida.\n",
    "        inicio_index (int): queremos dividir a substring de input_string começando nesse índice\n",
    "        Retorno:\n",
    "            Uma forma de tupla da solução parcial e seu custo\n",
    "    \"\"\"\n",
    "    # Já calculamos a solução ideal a partir do ponto\n",
    "    if inicio_index in cache:\n",
    "        return cache[inicio_index]\n",
    "    # A substring para dividir\n",
    "    substring = input_string[inicio_index:]\n",
    "    # Estas são as condições de contorno\n",
    "    # Se a substring estiver vazia, retorne uma string vazia sem nenhum custo\n",
    "    if not len(substring):\n",
    "        return '', 0\n",
    "    min_cost = None\n",
    "    min_string = None\n",
    "    # Colocamos nossa próxima partição em algum lugar entre o início + 1 e o final do input_string\n",
    "    for i in range(1, len(substring) + 1):\n",
    "        # Dividimos o resto da string recursivamente\n",
    "        rest_string, rest_cost = divideString(input_string, inicio_index + i)\n",
    "        current_string = substring[:i]\n",
    "        current_cost = calculaCusto(current_string) + rest_cost\n",
    "        # Atualiza o custo mínimo e string, se for o melhor até agora\n",
    "        if min_cost is None or current_cost < min_cost:\n",
    "            # Se as duas partes não estiverem vazias, junte-as com espaço\n",
    "            if current_string and rest_string:\n",
    "                min_string = current_string + ' ' + rest_string\n",
    "                # Adicionamos um custo ao espaço em branco para evitar a divisão de\n",
    "                # palavras desconhecidas em pequenos pedaços\n",
    "                current_cost += 1\n",
    "            else:\n",
    "                min_string = current_string + rest_string\n",
    "                min_cost = current_cost\n",
    "    cache[inicio_index] = min_string, min_cost\n",
    "    return min_string, min_cost"
   ]
  },
  {
   "cell_type": "code",
   "execution_count": 6,
   "metadata": {},
   "outputs": [
    {
     "name": "stdout",
     "output_type": "stream",
     "text": [
      "('marceloachaqueoclimapodemudar', 29)\n"
     ]
    }
   ],
   "source": [
    "# Executa a função começando do índice 0\n",
    "print(divideString(\"marceloachaqueoclimapodemudar\", 0))"
   ]
  },
  {
   "cell_type": "code",
   "execution_count": 7,
   "metadata": {},
   "outputs": [],
   "source": [
    "Saída: ('marcelo acha que o clima pode mudar', 13)"
   ]
  },
  {
   "cell_type": "code",
   "execution_count": 8,
   "metadata": {},
   "outputs": [
    {
     "name": "stdout",
     "output_type": "stream",
     "text": [
      "('achaqueoclimapodemudar', 22)\n"
     ]
    }
   ],
   "source": [
    "# Executa a função começando do índice 7\n",
    "print(divideString(\"marceloachaqueoclimapodemudar\", 7))"
   ]
  },
  {
   "cell_type": "code",
   "execution_count": 9,
   "metadata": {},
   "outputs": [],
   "source": [
    "Saída: ('acha que o clima pode mudar', 5)"
   ]
  }
 ],
 "metadata": {
  "kernelspec": {
   "display_name": "Python 3",
   "language": "python",
   "name": "python3"
  },
  "language_info": {
   "codemirror_mode": {
    "name": "ipython",
    "version": 3
   },
   "file_extension": ".py",
   "mimetype": "text/x-python",
   "name": "python",
   "nbconvert_exporter": "python",
   "pygments_lexer": "ipython3",
   "version": "3.7.3"
  }
 },
 "nbformat": 4,
 "nbformat_minor": 2
}
